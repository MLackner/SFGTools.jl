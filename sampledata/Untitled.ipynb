{
 "cells": [
  {
   "cell_type": "code",
   "execution_count": 11,
   "metadata": {},
   "outputs": [
    {
     "data": {
      "text/plain": [
       "rmbackground!"
      ]
     },
     "execution_count": 11,
     "metadata": {},
     "output_type": "execute_result"
    }
   ],
   "source": [
    "# using SFGTools\n",
    "include(\"../src/sfspectrum.jl\")\n",
    "include(\"../src/maths.jl\")\n",
    "include(\"../src/spectraio.jl\")\n",
    "include(\"../src/processing.jl\")"
   ]
  },
  {
   "cell_type": "code",
   "execution_count": 12,
   "metadata": {},
   "outputs": [
    {
     "name": "stdout",
     "output_type": "stream",
     "text": [
      "Collected 76 spectra\n"
     ]
    }
   ],
   "source": [
    "grab()"
   ]
  },
  {
   "cell_type": "code",
   "execution_count": 15,
   "metadata": {},
   "outputs": [
    {
     "data": {
      "text/html": [
       "<table class=\"data-frame\"><thead><tr><th></th><th>id</th><th>name</th><th>number</th><th>date</th></tr></thead><tbody><tr><th>1</th><td>63647670325179</td><td>Au_Mirror_DLScan</td><td>1</td><td>2017-11-29T20:25:25.179</td></tr><tr><th>2</th><td>63647670361363</td><td>Au_Mirror_DLScan</td><td>2</td><td>2017-11-29T20:26:01.363</td></tr><tr><th>3</th><td>63647670397528</td><td>Au_Mirror_DLScan</td><td>3</td><td>2017-11-29T20:26:37.528</td></tr><tr><th>4</th><td>63647670433678</td><td>Au_Mirror_DLScan</td><td>4</td><td>2017-11-29T20:27:13.678</td></tr><tr><th>5</th><td>63647670469863</td><td>Au_Mirror_DLScan</td><td>5</td><td>2017-11-29T20:27:49.863</td></tr><tr><th>6</th><td>63647670506028</td><td>Au_Mirror_DLScan</td><td>6</td><td>2017-11-29T20:28:26.028</td></tr><tr><th>7</th><td>63647670542178</td><td>Au_Mirror_DLScan</td><td>7</td><td>2017-11-29T20:29:02.178</td></tr><tr><th>8</th><td>63647670578328</td><td>Au_Mirror_DLScan</td><td>8</td><td>2017-11-29T20:29:38.328</td></tr><tr><th>9</th><td>63647670614528</td><td>Au_Mirror_DLScan</td><td>9</td><td>2017-11-29T20:30:14.528</td></tr><tr><th>10</th><td>63647670650678</td><td>Au_Mirror_DLScan</td><td>10</td><td>2017-11-29T20:30:50.678</td></tr><tr><th>11</th><td>63647670686828</td><td>Au_Mirror_DLScan</td><td>11</td><td>2017-11-29T20:31:26.828</td></tr><tr><th>12</th><td>63647670723029</td><td>Au_Mirror_DLScan</td><td>12</td><td>2017-11-29T20:32:03.029</td></tr><tr><th>13</th><td>63647670759178</td><td>Au_Mirror_DLScan</td><td>13</td><td>2017-11-29T20:32:39.178</td></tr><tr><th>14</th><td>63647670795327</td><td>Au_Mirror_DLScan</td><td>14</td><td>2017-11-29T20:33:15.327</td></tr><tr><th>15</th><td>63647670831527</td><td>Au_Mirror_DLScan</td><td>15</td><td>2017-11-29T20:33:51.527</td></tr><tr><th>16</th><td>63647670867529</td><td>Au_Mirror_DLScan</td><td>16</td><td>2017-11-29T20:34:27.529</td></tr><tr><th>17</th><td>63647670903729</td><td>Au_Mirror_DLScan</td><td>17</td><td>2017-11-29T20:35:03.729</td></tr><tr><th>18</th><td>63647670940028</td><td>Au_Mirror_DLScan</td><td>18</td><td>2017-11-29T20:35:40.028</td></tr><tr><th>19</th><td>63647670976229</td><td>Au_Mirror_DLScan</td><td>19</td><td>2017-11-29T20:36:16.229</td></tr><tr><th>20</th><td>63647671012528</td><td>Au_Mirror_DLScan</td><td>20</td><td>2017-11-29T20:36:52.528</td></tr><tr><th>21</th><td>63647671048677</td><td>Au_Mirror_DLScan</td><td>21</td><td>2017-11-29T20:37:28.677</td></tr><tr><th>22</th><td>63647671084827</td><td>Au_Mirror_DLScan</td><td>22</td><td>2017-11-29T20:38:04.827</td></tr><tr><th>23</th><td>63647671121029</td><td>Au_Mirror_DLScan</td><td>23</td><td>2017-11-29T20:38:41.029</td></tr><tr><th>24</th><td>63647671157178</td><td>Au_Mirror_DLScan</td><td>24</td><td>2017-11-29T20:39:17.178</td></tr><tr><th>25</th><td>63647671193327</td><td>Au_Mirror_DLScan</td><td>25</td><td>2017-11-29T20:39:53.327</td></tr><tr><th>26</th><td>63647671281677</td><td>Au_Mirror_DLScan_DestructionTest</td><td>1</td><td>2017-11-29T20:41:21.677</td></tr><tr><th>27</th><td>63647671337678</td><td>Au_Mirror_DLScan_Reference</td><td>1</td><td>2017-11-29T20:42:17.678</td></tr></tbody></table>"
      ],
      "text/plain": [
       "27×4 DataFrames.DataFrame\n",
       "│ Row │ id             │ name                               │ number │\n",
       "├─────┼────────────────┼────────────────────────────────────┼────────┤\n",
       "│ 1   │ 63647670325179 │ \"Au_Mirror_DLScan\"                 │ 1      │\n",
       "│ 2   │ 63647670361363 │ \"Au_Mirror_DLScan\"                 │ 2      │\n",
       "│ 3   │ 63647670397528 │ \"Au_Mirror_DLScan\"                 │ 3      │\n",
       "│ 4   │ 63647670433678 │ \"Au_Mirror_DLScan\"                 │ 4      │\n",
       "│ 5   │ 63647670469863 │ \"Au_Mirror_DLScan\"                 │ 5      │\n",
       "│ 6   │ 63647670506028 │ \"Au_Mirror_DLScan\"                 │ 6      │\n",
       "│ 7   │ 63647670542178 │ \"Au_Mirror_DLScan\"                 │ 7      │\n",
       "│ 8   │ 63647670578328 │ \"Au_Mirror_DLScan\"                 │ 8      │\n",
       "│ 9   │ 63647670614528 │ \"Au_Mirror_DLScan\"                 │ 9      │\n",
       "│ 10  │ 63647670650678 │ \"Au_Mirror_DLScan\"                 │ 10     │\n",
       "│ 11  │ 63647670686828 │ \"Au_Mirror_DLScan\"                 │ 11     │\n",
       "⋮\n",
       "│ 16  │ 63647670867529 │ \"Au_Mirror_DLScan\"                 │ 16     │\n",
       "│ 17  │ 63647670903729 │ \"Au_Mirror_DLScan\"                 │ 17     │\n",
       "│ 18  │ 63647670940028 │ \"Au_Mirror_DLScan\"                 │ 18     │\n",
       "│ 19  │ 63647670976229 │ \"Au_Mirror_DLScan\"                 │ 19     │\n",
       "│ 20  │ 63647671012528 │ \"Au_Mirror_DLScan\"                 │ 20     │\n",
       "│ 21  │ 63647671048677 │ \"Au_Mirror_DLScan\"                 │ 21     │\n",
       "│ 22  │ 63647671084827 │ \"Au_Mirror_DLScan\"                 │ 22     │\n",
       "│ 23  │ 63647671121029 │ \"Au_Mirror_DLScan\"                 │ 23     │\n",
       "│ 24  │ 63647671157178 │ \"Au_Mirror_DLScan\"                 │ 24     │\n",
       "│ 25  │ 63647671193327 │ \"Au_Mirror_DLScan\"                 │ 25     │\n",
       "│ 26  │ 63647671281677 │ \"Au_Mirror_DLScan_DestructionTest\" │ 1      │\n",
       "│ 27  │ 63647671337678 │ \"Au_Mirror_DLScan_Reference\"       │ 1      │\n",
       "\n",
       "│ Row │ date                    │\n",
       "├─────┼─────────────────────────┤\n",
       "│ 1   │ 2017-11-29T20:25:25.179 │\n",
       "│ 2   │ 2017-11-29T20:26:01.363 │\n",
       "│ 3   │ 2017-11-29T20:26:37.528 │\n",
       "│ 4   │ 2017-11-29T20:27:13.678 │\n",
       "│ 5   │ 2017-11-29T20:27:49.863 │\n",
       "│ 6   │ 2017-11-29T20:28:26.028 │\n",
       "│ 7   │ 2017-11-29T20:29:02.178 │\n",
       "│ 8   │ 2017-11-29T20:29:38.328 │\n",
       "│ 9   │ 2017-11-29T20:30:14.528 │\n",
       "│ 10  │ 2017-11-29T20:30:50.678 │\n",
       "│ 11  │ 2017-11-29T20:31:26.828 │\n",
       "⋮\n",
       "│ 16  │ 2017-11-29T20:34:27.529 │\n",
       "│ 17  │ 2017-11-29T20:35:03.729 │\n",
       "│ 18  │ 2017-11-29T20:35:40.028 │\n",
       "│ 19  │ 2017-11-29T20:36:16.229 │\n",
       "│ 20  │ 2017-11-29T20:36:52.528 │\n",
       "│ 21  │ 2017-11-29T20:37:28.677 │\n",
       "│ 22  │ 2017-11-29T20:38:04.827 │\n",
       "│ 23  │ 2017-11-29T20:38:41.029 │\n",
       "│ 24  │ 2017-11-29T20:39:17.178 │\n",
       "│ 25  │ 2017-11-29T20:39:53.327 │\n",
       "│ 26  │ 2017-11-29T20:41:21.677 │\n",
       "│ 27  │ 2017-11-29T20:42:17.678 │"
      ]
     },
     "execution_count": 15,
     "metadata": {},
     "output_type": "execute_result"
    }
   ],
   "source": [
    "df = list_data(inexact=\"au_mirror_dlscan\")\n",
    "sort!(df, cols=order(:id))\n",
    "order(:id)"
   ]
  },
  {
   "cell_type": "code",
   "execution_count": 14,
   "metadata": {},
   "outputs": [
    {
     "data": {
      "text/plain": [
       "25-element DataArrays.DataArray{Any,1}:\n",
       " 63647670325179\n",
       " 63647670650678\n",
       " 63647670686828\n",
       " 63647670723029\n",
       " 63647670759178\n",
       " 63647670795327\n",
       " 63647670831527\n",
       " 63647670867529\n",
       " 63647670903729\n",
       " 63647670940028\n",
       " 63647670976229\n",
       " 63647670361363\n",
       " 63647671012528\n",
       " 63647671048677\n",
       " 63647671084827\n",
       " 63647671121029\n",
       " 63647671157178\n",
       " 63647671193327\n",
       " 63647670397528\n",
       " 63647670433678\n",
       " 63647670469863\n",
       " 63647670506028\n",
       " 63647670542178\n",
       " 63647670578328\n",
       " 63647670614528"
      ]
     },
     "execution_count": 14,
     "metadata": {},
     "output_type": "execute_result"
    }
   ],
   "source": [
    "id = df[:id]\n",
    "idscan = id[1:25]\n",
    "idtest = id[26]\n"
   ]
  },
  {
   "cell_type": "code",
   "execution_count": null,
   "metadata": {},
   "outputs": [],
   "source": []
  }
 ],
 "metadata": {
  "kernelspec": {
   "display_name": "Julia 0.6.1",
   "language": "julia",
   "name": "julia-0.6"
  },
  "language_info": {
   "file_extension": ".jl",
   "mimetype": "application/julia",
   "name": "julia",
   "version": "0.6.1"
  }
 },
 "nbformat": 4,
 "nbformat_minor": 2
}
